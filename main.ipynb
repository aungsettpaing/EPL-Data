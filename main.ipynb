{
 "cells": [
  {
   "cell_type": "code",
   "execution_count": 2,
   "metadata": {},
   "outputs": [],
   "source": [
    "import pandas as pd"
   ]
  },
  {
   "cell_type": "code",
   "execution_count": 28,
   "metadata": {},
   "outputs": [
    {
     "data": {
      "text/plain": [
       "(380, 106)"
      ]
     },
     "execution_count": 28,
     "metadata": {},
     "output_type": "execute_result"
    }
   ],
   "source": [
    "# read data\n",
    "raw_2019_2020 = pd.read_csv(\"2019_2020.csv\")\n",
    "raw_2020_2021 = pd.read_csv(\"2020_2021.csv\")\n",
    "raw_2021_2022 = pd.read_csv(\"2021_2022.csv\")\n",
    "raw_2022_2023 = pd.read_csv(\"2022_2023.csv\")\n",
    "\n",
    "raw_2019_2020.shape"
   ]
  },
  {
   "cell_type": "code",
   "execution_count": 29,
   "metadata": {},
   "outputs": [
    {
     "data": {
      "text/plain": [
       "(38, 22)"
      ]
     },
     "execution_count": 29,
     "metadata": {},
     "output_type": "execute_result"
    }
   ],
   "source": [
    "# target columns\n",
    "columns = [\"Date\", \"HomeTeam\", \"AwayTeam\", \"FTHG\", \"FTAG\", \"FTR\", \"HTHG\", \"HTAG\", \"HTR\", \"Referee\",\n",
    "           \"HS\", \"AS\", \"HST\", \"AST\", \"HF\", \"AF\", \"HC\", \"AC\", \"HY\", \"AY\", \"HR\", \"AR\"]\n",
    "\n",
    "# filter Arsenal games with these columns\n",
    "arsenal_2019_2020 = raw_2019_2020.loc[(raw_2019_2020[\"HomeTeam\"]==\"Arsenal\") | (raw_2019_2020[\"AwayTeam\"]==\"Arsenal\"), columns]\n",
    "arsenal_2020_2021 = raw_2020_2021.loc[(raw_2020_2021[\"HomeTeam\"]==\"Arsenal\") | (raw_2020_2021[\"AwayTeam\"]==\"Arsenal\"), columns]\n",
    "arsenal_2021_2022 = raw_2021_2022.loc[(raw_2021_2022[\"HomeTeam\"]==\"Arsenal\") | (raw_2021_2022[\"AwayTeam\"]==\"Arsenal\"), columns]\n",
    "arsenal_2022_2023 = raw_2022_2023.loc[(raw_2022_2023[\"HomeTeam\"]==\"Arsenal\") | (raw_2022_2023[\"AwayTeam\"]==\"Arsenal\"), columns]\n",
    "\n",
    "arsenal_2019_2020.shape"
   ]
  },
  {
   "cell_type": "code",
   "execution_count": 30,
   "metadata": {},
   "outputs": [
    {
     "data": {
      "text/plain": [
       "(110, 23)"
      ]
     },
     "execution_count": 30,
     "metadata": {},
     "output_type": "execute_result"
    }
   ],
   "source": [
    "# reformat date\n",
    "arsenal_2019_2020[\"Date\"] = pd.to_datetime(arsenal_2019_2020[\"Date\"], format=\"%d/%m/%Y\")\n",
    "arsenal_2020_2021[\"Date\"] = pd.to_datetime(arsenal_2020_2021[\"Date\"], format=\"%d/%m/%Y\")\n",
    "arsenal_2021_2022[\"Date\"] = pd.to_datetime(arsenal_2021_2022[\"Date\"], format=\"%d/%m/%Y\")\n",
    "arsenal_2022_2023[\"Date\"] = pd.to_datetime(arsenal_2022_2023[\"Date\"], format=\"%d/%m/%Y\")\n",
    "\n",
    "# filter Mikel Arteta\n",
    "mikel_joined_on = \"2019-12-26\"\n",
    "arsenal_2019_2020 = arsenal_2019_2020[arsenal_2019_2020[\"Date\"] >= mikel_joined_on]\n",
    "\n",
    "# added a season column\n",
    "arsenal_2019_2020[\"season\"] = \"2019-2020\"\n",
    "arsenal_2020_2021[\"season\"] = \"2020-2021\"\n",
    "arsenal_2021_2022[\"season\"] = \"2021-2022\"\n",
    "arsenal_2022_2023[\"season\"] = \"2022-2023\"\n",
    "\n",
    "# aggregate data (ONLY UNDER MIKEL)\n",
    "arsenal_data = pd.concat([arsenal_2019_2020, arsenal_2020_2021, arsenal_2021_2022, arsenal_2022_2023])\n",
    "\n",
    "arsenal_data.shape"
   ]
  },
  {
   "cell_type": "code",
   "execution_count": 31,
   "metadata": {},
   "outputs": [],
   "source": [
    "# Create Home Column\n",
    "# Yes -> Arsenal is Home Team.\n",
    "# No -> Arsenal is Away Team.\n",
    "\n",
    "arsenal_data[\"Home\"] = None # initial\n",
    "arsenal_data.loc[arsenal_data[\"HomeTeam\"] == \"Arsenal\", \"Home\"] = \"Yes\"\n",
    "arsenal_data.loc[arsenal_data[\"HomeTeam\"] != \"Arsenal\", \"Home\"] = \"No\"\n",
    "\n",
    "# Create Result(Half Result) Column\n",
    "# Win -> Arsenal win the game without any regards to home or away status.\n",
    "# Lose -> Arsenal lose the game.\n",
    "# Draw -> Arsenal draw the game.\n",
    "arsenal_data[\"HalfResult\"] = \"Draw\" # initial\n",
    "arsenal_data.loc[(arsenal_data[\"HomeTeam\"] == \"Arsenal\") &\n",
    "                 (arsenal_data[\"HTR\"] == \"H\"), \"HalfResult\"] = \"Win\"\n",
    "arsenal_data.loc[(arsenal_data[\"HomeTeam\"] == \"Arsenal\") & \n",
    "                 (arsenal_data[\"HTR\"] == \"A\"), \"HalfResult\"] = \"Lose\"\n",
    "arsenal_data.loc[(arsenal_data[\"AwayTeam\"] == \"Arsenal\") & \n",
    "                 (arsenal_data[\"HTR\"] == \"A\"), \"HalfResult\"] = \"Win\"\n",
    "arsenal_data.loc[(arsenal_data[\"AwayTeam\"] == \"Arsenal\") & \n",
    "                 (arsenal_data[\"HTR\"] == \"H\"), \"HalfResult\"] = \"Lose\"\n",
    "\n",
    "# Create Result(Final Result) Column\n",
    "# Win -> Arsenal win the game without any regards to home or away status.\n",
    "# Lose -> Arsenal lose the game.\n",
    "# Draw -> Arsenal draw the game.\n",
    "arsenal_data[\"FinalResult\"] = \"Draw\" # initial\n",
    "arsenal_data.loc[(arsenal_data[\"HomeTeam\"] == \"Arsenal\") & \n",
    "                 (arsenal_data[\"FTR\"] == \"H\"), \"FinalResult\"] = \"Win\"\n",
    "arsenal_data.loc[(arsenal_data[\"HomeTeam\"] == \"Arsenal\") & \n",
    "                 (arsenal_data[\"FTR\"] == \"A\"), \"FinalResult\"] = \"Lose\"\n",
    "arsenal_data.loc[(arsenal_data[\"AwayTeam\"] == \"Arsenal\") & \n",
    "                 (arsenal_data[\"FTR\"] == \"A\"), \"FinalResult\"] = \"Win\"\n",
    "arsenal_data.loc[(arsenal_data[\"AwayTeam\"] == \"Arsenal\") & \n",
    "                 (arsenal_data[\"FTR\"] == \"H\"), \"FinalResult\"] = \"Lose\"\n",
    "\n",
    "# Create Point Column\n",
    "# 3 -> 3 points for Arsenal win\n",
    "# 1 -> 1 point for Arsenal draw\n",
    "# 0 -> 0 point for Arsenal loss\n",
    "arsenal_data[\"Point\"] = 0\n",
    "arsenal_data.loc[arsenal_data[\"FinalResult\"] == \"Win\", \"Point\"] = 3\n",
    "arsenal_data.loc[arsenal_data[\"FinalResult\"] == \"Draw\", \"Point\"] = 1\n",
    "arsenal_data.loc[arsenal_data[\"FinalResult\"] == \"Lose\", \"Point\"] = 0\n",
    "\n",
    "# Create Full-Time-Goals-Taken (FTGT) and \n",
    "# Full-Time-Goals-Conceded (FTGC) columns\n",
    "arsenal_data[\"FTGT\"] = 0 # initial\n",
    "arsenal_data.loc[(arsenal_data[\"HomeTeam\"] == \"Arsenal\"), \n",
    "                 \"FTGT\"] = arsenal_data.loc[(arsenal_data[\"HomeTeam\"] == \"Arsenal\"), \n",
    "                                            \"FTHG\"]\n",
    "arsenal_data.loc[(arsenal_data[\"AwayTeam\"] == \"Arsenal\"), \n",
    "                 \"FTGT\"] = arsenal_data.loc[(arsenal_data[\"AwayTeam\"] == \"Arsenal\"), \n",
    "                                            \"FTAG\"]\n",
    "arsenal_data[\"FTGC\"] = 0 # initial\n",
    "arsenal_data.loc[(arsenal_data[\"HomeTeam\"] == \"Arsenal\"), \n",
    "                 \"FTGC\"] = arsenal_data.loc[(arsenal_data[\"HomeTeam\"] == \"Arsenal\"), \n",
    "                                            \"FTAG\"]\n",
    "arsenal_data.loc[(arsenal_data[\"AwayTeam\"] == \"Arsenal\"), \n",
    "                 \"FTGC\"] = arsenal_data.loc[(arsenal_data[\"AwayTeam\"] == \"Arsenal\"), \n",
    "                                            \"FTHG\"]"
   ]
  },
  {
   "cell_type": "code",
   "execution_count": 27,
   "metadata": {},
   "outputs": [
    {
     "data": {
      "text/plain": [
       "(110, 28)"
      ]
     },
     "execution_count": 27,
     "metadata": {},
     "output_type": "execute_result"
    }
   ],
   "source": [
    "arsenal_data.shape"
   ]
  },
  {
   "cell_type": "code",
   "execution_count": 32,
   "metadata": {},
   "outputs": [
    {
     "data": {
      "text/html": [
       "<div>\n",
       "<style scoped>\n",
       "    .dataframe tbody tr th:only-of-type {\n",
       "        vertical-align: middle;\n",
       "    }\n",
       "\n",
       "    .dataframe tbody tr th {\n",
       "        vertical-align: top;\n",
       "    }\n",
       "\n",
       "    .dataframe thead th {\n",
       "        text-align: right;\n",
       "    }\n",
       "</style>\n",
       "<table border=\"1\" class=\"dataframe\">\n",
       "  <thead>\n",
       "    <tr style=\"text-align: right;\">\n",
       "      <th></th>\n",
       "      <th>Date</th>\n",
       "      <th>HomeTeam</th>\n",
       "      <th>AwayTeam</th>\n",
       "      <th>FTHG</th>\n",
       "      <th>FTAG</th>\n",
       "      <th>FTR</th>\n",
       "      <th>HTHG</th>\n",
       "      <th>HTAG</th>\n",
       "      <th>HTR</th>\n",
       "      <th>Referee</th>\n",
       "      <th>...</th>\n",
       "      <th>AY</th>\n",
       "      <th>HR</th>\n",
       "      <th>AR</th>\n",
       "      <th>season</th>\n",
       "      <th>Home</th>\n",
       "      <th>HalfResult</th>\n",
       "      <th>FinalResult</th>\n",
       "      <th>Point</th>\n",
       "      <th>FTGT</th>\n",
       "      <th>FTGC</th>\n",
       "    </tr>\n",
       "  </thead>\n",
       "  <tbody>\n",
       "    <tr>\n",
       "      <th>181</th>\n",
       "      <td>2019-12-26</td>\n",
       "      <td>Bournemouth</td>\n",
       "      <td>Arsenal</td>\n",
       "      <td>1</td>\n",
       "      <td>1</td>\n",
       "      <td>D</td>\n",
       "      <td>1</td>\n",
       "      <td>0</td>\n",
       "      <td>H</td>\n",
       "      <td>S Attwell</td>\n",
       "      <td>...</td>\n",
       "      <td>4</td>\n",
       "      <td>0</td>\n",
       "      <td>0</td>\n",
       "      <td>2019-2020</td>\n",
       "      <td>No</td>\n",
       "      <td>Lose</td>\n",
       "      <td>Draw</td>\n",
       "      <td>1</td>\n",
       "      <td>1</td>\n",
       "      <td>1</td>\n",
       "    </tr>\n",
       "  </tbody>\n",
       "</table>\n",
       "<p>1 rows × 29 columns</p>\n",
       "</div>"
      ],
      "text/plain": [
       "          Date     HomeTeam AwayTeam  FTHG  FTAG FTR  HTHG  HTAG HTR  \\\n",
       "181 2019-12-26  Bournemouth  Arsenal     1     1   D     1     0   H   \n",
       "\n",
       "       Referee  ...  AY  HR  AR     season  Home  HalfResult  FinalResult  \\\n",
       "181  S Attwell  ...   4   0   0  2019-2020    No        Lose         Draw   \n",
       "\n",
       "     Point  FTGT  FTGC  \n",
       "181      1     1     1  \n",
       "\n",
       "[1 rows x 29 columns]"
      ]
     },
     "execution_count": 32,
     "metadata": {},
     "output_type": "execute_result"
    }
   ],
   "source": [
    "arsenal_data.head(1)"
   ]
  },
  {
   "cell_type": "code",
   "execution_count": 36,
   "metadata": {},
   "outputs": [],
   "source": [
    "# make a final sheet\n",
    "arsenal_data.to_csv(\"arsenal_under_mikel.csv\", index=False)"
   ]
  },
  {
   "cell_type": "code",
   "execution_count": 37,
   "metadata": {},
   "outputs": [
    {
     "data": {
      "text/html": [
       "<div>\n",
       "<style scoped>\n",
       "    .dataframe tbody tr th:only-of-type {\n",
       "        vertical-align: middle;\n",
       "    }\n",
       "\n",
       "    .dataframe tbody tr th {\n",
       "        vertical-align: top;\n",
       "    }\n",
       "\n",
       "    .dataframe thead th {\n",
       "        text-align: right;\n",
       "    }\n",
       "</style>\n",
       "<table border=\"1\" class=\"dataframe\">\n",
       "  <thead>\n",
       "    <tr style=\"text-align: right;\">\n",
       "      <th></th>\n",
       "      <th>Date</th>\n",
       "      <th>HomeTeam</th>\n",
       "      <th>AwayTeam</th>\n",
       "      <th>FTHG</th>\n",
       "      <th>FTAG</th>\n",
       "      <th>FTR</th>\n",
       "      <th>HTHG</th>\n",
       "      <th>HTAG</th>\n",
       "      <th>HTR</th>\n",
       "      <th>Referee</th>\n",
       "      <th>...</th>\n",
       "      <th>AY</th>\n",
       "      <th>HR</th>\n",
       "      <th>AR</th>\n",
       "      <th>season</th>\n",
       "      <th>Home</th>\n",
       "      <th>HalfResult</th>\n",
       "      <th>FinalResult</th>\n",
       "      <th>Point</th>\n",
       "      <th>FTGT</th>\n",
       "      <th>FTGC</th>\n",
       "    </tr>\n",
       "  </thead>\n",
       "  <tbody>\n",
       "    <tr>\n",
       "      <th>0</th>\n",
       "      <td>2019-12-26</td>\n",
       "      <td>Bournemouth</td>\n",
       "      <td>Arsenal</td>\n",
       "      <td>1</td>\n",
       "      <td>1</td>\n",
       "      <td>D</td>\n",
       "      <td>1</td>\n",
       "      <td>0</td>\n",
       "      <td>H</td>\n",
       "      <td>S Attwell</td>\n",
       "      <td>...</td>\n",
       "      <td>4</td>\n",
       "      <td>0</td>\n",
       "      <td>0</td>\n",
       "      <td>2019-2020</td>\n",
       "      <td>No</td>\n",
       "      <td>Lose</td>\n",
       "      <td>Draw</td>\n",
       "      <td>1</td>\n",
       "      <td>1</td>\n",
       "      <td>1</td>\n",
       "    </tr>\n",
       "    <tr>\n",
       "      <th>1</th>\n",
       "      <td>2019-12-29</td>\n",
       "      <td>Arsenal</td>\n",
       "      <td>Chelsea</td>\n",
       "      <td>1</td>\n",
       "      <td>2</td>\n",
       "      <td>A</td>\n",
       "      <td>1</td>\n",
       "      <td>0</td>\n",
       "      <td>H</td>\n",
       "      <td>C Pawson</td>\n",
       "      <td>...</td>\n",
       "      <td>4</td>\n",
       "      <td>0</td>\n",
       "      <td>0</td>\n",
       "      <td>2019-2020</td>\n",
       "      <td>Yes</td>\n",
       "      <td>Win</td>\n",
       "      <td>Lose</td>\n",
       "      <td>0</td>\n",
       "      <td>1</td>\n",
       "      <td>2</td>\n",
       "    </tr>\n",
       "    <tr>\n",
       "      <th>2</th>\n",
       "      <td>2020-01-01</td>\n",
       "      <td>Arsenal</td>\n",
       "      <td>Man United</td>\n",
       "      <td>2</td>\n",
       "      <td>0</td>\n",
       "      <td>H</td>\n",
       "      <td>2</td>\n",
       "      <td>0</td>\n",
       "      <td>H</td>\n",
       "      <td>C Kavanagh</td>\n",
       "      <td>...</td>\n",
       "      <td>0</td>\n",
       "      <td>0</td>\n",
       "      <td>0</td>\n",
       "      <td>2019-2020</td>\n",
       "      <td>Yes</td>\n",
       "      <td>Win</td>\n",
       "      <td>Win</td>\n",
       "      <td>3</td>\n",
       "      <td>2</td>\n",
       "      <td>0</td>\n",
       "    </tr>\n",
       "    <tr>\n",
       "      <th>3</th>\n",
       "      <td>2020-01-11</td>\n",
       "      <td>Crystal Palace</td>\n",
       "      <td>Arsenal</td>\n",
       "      <td>1</td>\n",
       "      <td>1</td>\n",
       "      <td>D</td>\n",
       "      <td>0</td>\n",
       "      <td>1</td>\n",
       "      <td>A</td>\n",
       "      <td>P Tierney</td>\n",
       "      <td>...</td>\n",
       "      <td>3</td>\n",
       "      <td>0</td>\n",
       "      <td>1</td>\n",
       "      <td>2019-2020</td>\n",
       "      <td>No</td>\n",
       "      <td>Win</td>\n",
       "      <td>Draw</td>\n",
       "      <td>1</td>\n",
       "      <td>1</td>\n",
       "      <td>1</td>\n",
       "    </tr>\n",
       "    <tr>\n",
       "      <th>4</th>\n",
       "      <td>2020-01-18</td>\n",
       "      <td>Arsenal</td>\n",
       "      <td>Sheffield United</td>\n",
       "      <td>1</td>\n",
       "      <td>1</td>\n",
       "      <td>D</td>\n",
       "      <td>1</td>\n",
       "      <td>0</td>\n",
       "      <td>H</td>\n",
       "      <td>M Dean</td>\n",
       "      <td>...</td>\n",
       "      <td>2</td>\n",
       "      <td>0</td>\n",
       "      <td>0</td>\n",
       "      <td>2019-2020</td>\n",
       "      <td>Yes</td>\n",
       "      <td>Win</td>\n",
       "      <td>Draw</td>\n",
       "      <td>1</td>\n",
       "      <td>1</td>\n",
       "      <td>1</td>\n",
       "    </tr>\n",
       "  </tbody>\n",
       "</table>\n",
       "<p>5 rows × 29 columns</p>\n",
       "</div>"
      ],
      "text/plain": [
       "         Date        HomeTeam          AwayTeam  FTHG  FTAG FTR  HTHG  HTAG  \\\n",
       "0  2019-12-26     Bournemouth           Arsenal     1     1   D     1     0   \n",
       "1  2019-12-29         Arsenal           Chelsea     1     2   A     1     0   \n",
       "2  2020-01-01         Arsenal        Man United     2     0   H     2     0   \n",
       "3  2020-01-11  Crystal Palace           Arsenal     1     1   D     0     1   \n",
       "4  2020-01-18         Arsenal  Sheffield United     1     1   D     1     0   \n",
       "\n",
       "  HTR     Referee  ...  AY  HR  AR     season  Home  HalfResult  FinalResult  \\\n",
       "0   H   S Attwell  ...   4   0   0  2019-2020    No        Lose         Draw   \n",
       "1   H    C Pawson  ...   4   0   0  2019-2020   Yes         Win         Lose   \n",
       "2   H  C Kavanagh  ...   0   0   0  2019-2020   Yes         Win          Win   \n",
       "3   A   P Tierney  ...   3   0   1  2019-2020    No         Win         Draw   \n",
       "4   H      M Dean  ...   2   0   0  2019-2020   Yes         Win         Draw   \n",
       "\n",
       "   Point  FTGT  FTGC  \n",
       "0      1     1     1  \n",
       "1      0     1     2  \n",
       "2      3     2     0  \n",
       "3      1     1     1  \n",
       "4      1     1     1  \n",
       "\n",
       "[5 rows x 29 columns]"
      ]
     },
     "execution_count": 37,
     "metadata": {},
     "output_type": "execute_result"
    }
   ],
   "source": [
    "test = pd.read_csv(\"arsenal_under_mikel.csv\")\n",
    "test.head()"
   ]
  },
  {
   "cell_type": "code",
   "execution_count": 38,
   "metadata": {},
   "outputs": [
    {
     "data": {
      "text/plain": [
       "(110, 29)"
      ]
     },
     "execution_count": 38,
     "metadata": {},
     "output_type": "execute_result"
    }
   ],
   "source": [
    "test.shape"
   ]
  },
  {
   "cell_type": "code",
   "execution_count": null,
   "metadata": {},
   "outputs": [],
   "source": []
  }
 ],
 "metadata": {
  "interpreter": {
   "hash": "b1ff2fec7ac4baaad15e215806951e0c7180cc99273e5fb5a3d941be15c673ed"
  },
  "kernelspec": {
   "display_name": "Python 3.8.3 ('base')",
   "language": "python",
   "name": "python3"
  },
  "language_info": {
   "codemirror_mode": {
    "name": "ipython",
    "version": 3
   },
   "file_extension": ".py",
   "mimetype": "text/x-python",
   "name": "python",
   "nbconvert_exporter": "python",
   "pygments_lexer": "ipython3",
   "version": "3.8.3"
  },
  "orig_nbformat": 4
 },
 "nbformat": 4,
 "nbformat_minor": 2
}
